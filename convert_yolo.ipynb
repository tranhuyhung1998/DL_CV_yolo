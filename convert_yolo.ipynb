{
 "cells": [
  {
   "cell_type": "code",
   "id": "initial_id",
   "metadata": {
    "collapsed": true,
    "ExecuteTime": {
     "end_time": "2024-10-31T08:17:36.033052Z",
     "start_time": "2024-10-31T08:17:35.795357Z"
    }
   },
   "source": [
    "import os\n",
    "import shutil\n",
    "\n",
    "import cv2\n",
    "import numpy as np\n",
    "from joblib import Parallel, delayed"
   ],
   "outputs": [],
   "execution_count": 1
  },
  {
   "metadata": {
    "ExecuteTime": {
     "end_time": "2024-10-31T08:17:39.350750Z",
     "start_time": "2024-10-31T08:17:39.339591Z"
    }
   },
   "cell_type": "code",
   "source": [
    "def mask_file_to_yolo(mask_path: str, yolo_label_path: str):\n",
    "    # Load or generate your segmentation mask\n",
    "    # Assume mask is a 512x512 NumPy array where each pixel is an integer label\n",
    "    mask = cv2.imread(mask_path, cv2.IMREAD_GRAYSCALE)\n",
    "    object_ids = np.unique(mask[mask > 0])\n",
    "    \n",
    "    with open(yolo_label_path, 'w') as f:\n",
    "        # Find contours for the object with all labels\n",
    "        for object_id in object_ids:\n",
    "            label = object_id\n",
    "            contours, _ = cv2.findContours((mask == label).astype(np.uint8), cv2.RETR_EXTERNAL, cv2.CHAIN_APPROX_SIMPLE)\n",
    "            \n",
    "            # Generate the line for each contour found (in case there are multiple instances of the label)\n",
    "            lines = []\n",
    "            for contour in contours:\n",
    "                # Flatten contour points and scale them back to [0, 1] relative coordinates\n",
    "                contour_points = contour.reshape(-1, 2)\n",
    "                contour_points = contour_points / 512  # Scale points to (0-1) range if required by YOLO\n",
    "                points = ' '.join(f'{x:.6f} {y:.6f}' for x, y in contour_points)\n",
    "                \n",
    "                # Format: <class-index> <x1> <y1> <x2> <y2> ... <xn> <yn>\n",
    "                line = f\"{label - 1} {points}\"\n",
    "                lines.append(line)\n",
    "        \n",
    "            # Print result\n",
    "            for line in lines:\n",
    "                f.write(line + '\\n')\n",
    "                "
   ],
   "id": "32bee9dd5601e7bb",
   "outputs": [],
   "execution_count": 2
  },
  {
   "metadata": {
    "ExecuteTime": {
     "end_time": "2024-10-31T08:18:34.956310Z",
     "start_time": "2024-10-31T08:18:13.148846Z"
    }
   },
   "cell_type": "code",
   "source": [
    "for dataset in ['train', 'val']:\n",
    "    image_path = f'./data/Public_leaderboard_data/{dataset}_images_clean'\n",
    "    yolo_image_path = f'./data/leaderboard_yolo/images/{dataset}'\n",
    "    os.makedirs(yolo_image_path, exist_ok=True)\n",
    "    label_path = f'./data/Public_leaderboard_data/{dataset}_labels'\n",
    "    yolo_label_path = f'./data/leaderboard_yolo/labels/{dataset}'\n",
    "    os.makedirs(yolo_label_path, exist_ok=True)\n",
    "    \n",
    "    print('Processing', dataset, 'set.')\n",
    "    \n",
    "    def parallel_convert(folder):\n",
    "        for img in os.listdir(os.path.join(label_path, folder)):\n",
    "            mask_file_to_yolo(os.path.join(label_path, folder, img), os.path.join(yolo_label_path, f'{folder}_{img.replace(\".png\", \".txt\")}'))\n",
    "            shutil.copy(os.path.join(image_path, folder, img), os.path.join(yolo_image_path, f'{folder}_{img}'))\n",
    "            \n",
    "            \n",
    "    Parallel(n_jobs=-1)(delayed(parallel_convert)(folder) for folder in os.listdir(label_path))"
   ],
   "id": "9c5e217e254857a",
   "outputs": [
    {
     "name": "stdout",
     "output_type": "stream",
     "text": [
      "Processing train set.\n",
      "Processing val set.\n"
     ]
    }
   ],
   "execution_count": 4
  },
  {
   "metadata": {},
   "cell_type": "markdown",
   "source": "",
   "id": "e87db48ba13b05ba"
  }
 ],
 "metadata": {
  "kernelspec": {
   "display_name": "Python 3",
   "language": "python",
   "name": "python3"
  },
  "language_info": {
   "codemirror_mode": {
    "name": "ipython",
    "version": 2
   },
   "file_extension": ".py",
   "mimetype": "text/x-python",
   "name": "python",
   "nbconvert_exporter": "python",
   "pygments_lexer": "ipython2",
   "version": "2.7.6"
  }
 },
 "nbformat": 4,
 "nbformat_minor": 5
}
